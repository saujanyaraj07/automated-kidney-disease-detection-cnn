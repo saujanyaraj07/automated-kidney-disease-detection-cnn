{
 "cells": [
  {
   "cell_type": "code",
   "execution_count": 4,
   "id": "aff8113f",
   "metadata": {
    "execution": {
     "iopub.execute_input": "2024-10-17T03:20:35.977501Z",
     "iopub.status.busy": "2024-10-17T03:20:35.977175Z",
     "iopub.status.idle": "2024-10-17T03:20:48.647327Z",
     "shell.execute_reply": "2024-10-17T03:20:48.646323Z"
    },
    "papermill": {
     "duration": 12.678286,
     "end_time": "2024-10-17T03:20:48.649813",
     "exception": false,
     "start_time": "2024-10-17T03:20:35.971527",
     "status": "completed"
    },
    "tags": []
   },
   "outputs": [
    {
     "name": "stdout",
     "output_type": "stream",
     "text": [
      "Requirement already satisfied: split-folders in c:\\python311\\lib\\site-packages (0.5.1)\n"
     ]
    }
   ],
   "source": [
    "# Installing split-folders package\n",
    "!pip install split-folders"
   ]
  },
  {
   "cell_type": "code",
   "execution_count": 5,
   "id": "6ce369ad",
   "metadata": {
    "execution": {
     "iopub.execute_input": "2024-10-17T03:20:48.662172Z",
     "iopub.status.busy": "2024-10-17T03:20:48.661372Z",
     "iopub.status.idle": "2024-10-17T03:21:02.164206Z",
     "shell.execute_reply": "2024-10-17T03:21:02.163213Z"
    },
    "papermill": {
     "duration": 13.511416,
     "end_time": "2024-10-17T03:21:02.166646",
     "exception": false,
     "start_time": "2024-10-17T03:20:48.655230",
     "status": "completed"
    },
    "tags": []
   },
   "outputs": [],
   "source": [
    "# Suppresses warnings for cleaner output\n",
    "import warnings\n",
    "warnings.filterwarnings(action=\"ignore\")  \n",
    "\n",
    "# Import libraries\n",
    "import matplotlib.pyplot as plt  # For plotting metrics\n",
    "import numpy as np  # For numerical operations\n",
    "import seaborn as sns\n",
    "\n",
    "# Keras / TensorFlow imports\n",
    "import tensorflow as tf\n",
    "from tensorflow import keras\n",
    "from tensorflow.keras.models import Sequential\n",
    "from tensorflow.keras.layers import Conv2D, MaxPooling2D, Flatten, Dense, Dropout, BatchNormalization\n",
    "from tensorflow.keras.preprocessing.image import ImageDataGenerator  # For image data augmentation\n",
    "from tensorflow.keras.callbacks import EarlyStopping, ModelCheckpoint, TensorBoard, LearningRateScheduler  # For early stopping the model training\n",
    "\n",
    "# Sklearn imports for metrics\n",
    "from sklearn.metrics import confusion_matrix, classification_report  # For performance evaluation\n",
    "from sklearn.utils.class_weight import compute_class_weight\n",
    "from sklearn.metrics import roc_curve, auc\n",
    "from sklearn.preprocessing import label_binarize\n",
    "from sklearn.metrics import precision_recall_curve, average_precision_score\n"
   ]
  },
  {
   "cell_type": "code",
   "execution_count": 6,
   "id": "c308d3ad",
   "metadata": {
    "execution": {
     "iopub.execute_input": "2024-10-17T03:21:02.177492Z",
     "iopub.status.busy": "2024-10-17T03:21:02.176937Z",
     "iopub.status.idle": "2024-10-17T03:22:56.814336Z",
     "shell.execute_reply": "2024-10-17T03:22:56.813371Z"
    },
    "papermill": {
     "duration": 114.645308,
     "end_time": "2024-10-17T03:22:56.816794",
     "exception": false,
     "start_time": "2024-10-17T03:21:02.171486",
     "status": "completed"
    },
    "tags": []
   },
   "outputs": [],
   "source": [
    "# Splitting the dataset\n",
    "import splitfolders\n",
    "splitfolders.ratio(\n",
    "    \"C:\\\\ctdataset\\\\CT-KIDNEY-DATASET-Normal-Cyst-Tumor-Stone\",\n",
    "    output=\"C:\\\\dataset\",\n",
    "    seed=1337,\n",
    "    ratio=(.8, .1, .1)\n",
    ")"
   ]
  },
  {
   "cell_type": "code",
   "execution_count": 7,
   "id": "b2305ab2",
   "metadata": {},
   "outputs": [],
   "source": [
    "# Function to count images per class in a directory\n",
    "import os\n",
    "\n",
    "def count_images_per_class(directory):\n",
    "    class_counts = {}\n",
    "    for class_name in os.listdir(directory):\n",
    "        class_dir = os.path.join(directory, class_name)\n",
    "        if os.path.isdir(class_dir):\n",
    "            class_counts[class_name] = len(os.listdir(class_dir))\n",
    "    return class_counts"
   ]
  },
  {
   "cell_type": "code",
   "execution_count": 8,
   "id": "2d9baf95",
   "metadata": {
    "execution": {
     "iopub.execute_input": "2024-10-17T03:22:56.952755Z",
     "iopub.status.busy": "2024-10-17T03:22:56.952425Z",
     "iopub.status.idle": "2024-10-17T03:22:56.956642Z",
     "shell.execute_reply": "2024-10-17T03:22:56.955787Z"
    },
    "papermill": {
     "duration": 0.073782,
     "end_time": "2024-10-17T03:22:56.958496",
     "exception": false,
     "start_time": "2024-10-17T03:22:56.884714",
     "status": "completed"
    },
    "tags": []
   },
   "outputs": [],
   "source": [
    "# Defining Data Directories (updated after split)\n",
    "train_dir = 'C:/dataset/train'\n",
    "val_dir = 'C:/dataset/val'\n",
    "test_dir = 'C:/dataset/test'"
   ]
  },
  {
   "cell_type": "code",
   "execution_count": 9,
   "id": "2229af81",
   "metadata": {},
   "outputs": [
    {
     "name": "stdout",
     "output_type": "stream",
     "text": [
      "Training set distribution: {'Cyst': 2967, 'Normal': 4061, 'Stone': 1101, 'Tumor': 1826}\n",
      "Validation set distribution: {'Cyst': 370, 'Normal': 507, 'Stone': 137, 'Tumor': 228}\n",
      "Test set distribution: {'Cyst': 372, 'Normal': 509, 'Stone': 139, 'Tumor': 229}\n"
     ]
    }
   ],
   "source": [
    "# Get counts\n",
    "train_counts = count_images_per_class(train_dir)\n",
    "val_counts = count_images_per_class(val_dir)\n",
    "test_counts = count_images_per_class(test_dir)\n",
    "\n",
    "# Print the results\n",
    "print(\"Training set distribution:\", train_counts)\n",
    "print(\"Validation set distribution:\", val_counts)\n",
    "print(\"Test set distribution:\", test_counts)"
   ]
  },
  {
   "cell_type": "code",
   "execution_count": 10,
   "id": "d92fb773",
   "metadata": {
    "execution": {
     "iopub.execute_input": "2024-10-17T03:22:57.094593Z",
     "iopub.status.busy": "2024-10-17T03:22:57.093873Z",
     "iopub.status.idle": "2024-10-17T03:22:57.098108Z",
     "shell.execute_reply": "2024-10-17T03:22:57.097346Z"
    },
    "papermill": {
     "duration": 0.074084,
     "end_time": "2024-10-17T03:22:57.099968",
     "exception": false,
     "start_time": "2024-10-17T03:22:57.025884",
     "status": "completed"
    },
    "tags": []
   },
   "outputs": [],
   "source": [
    "# Defining Image Parameters\n",
    "IMG_SIZE = (150, 150)  # Consistent image size\n",
    "BATCH_SIZE = 32\n",
    "COLOR_MODE = 'grayscale'  # Consistent color mode across train, val, test"
   ]
  },
  {
   "cell_type": "code",
   "execution_count": 11,
   "id": "18ee4c64",
   "metadata": {
    "execution": {
     "iopub.execute_input": "2024-10-17T03:22:57.235583Z",
     "iopub.status.busy": "2024-10-17T03:22:57.235272Z",
     "iopub.status.idle": "2024-10-17T03:22:57.240363Z",
     "shell.execute_reply": "2024-10-17T03:22:57.239567Z"
    },
    "papermill": {
     "duration": 0.074944,
     "end_time": "2024-10-17T03:22:57.242187",
     "exception": false,
     "start_time": "2024-10-17T03:22:57.167243",
     "status": "completed"
    },
    "tags": []
   },
   "outputs": [],
   "source": [
    "# Data Augmentation for training set\n",
    "train_datagen = tf.keras.preprocessing.image.ImageDataGenerator(\n",
    "    rescale=1./255,\n",
    "    rotation_range=20,\n",
    "    width_shift_range=0.2,\n",
    "    height_shift_range=0.2,\n",
    "    shear_range=0.2,\n",
    "    zoom_range=0.2,\n",
    "    horizontal_flip=True,\n",
    "    fill_mode='nearest'\n",
    ")\n",
    "\n",
    "# Validation and Test Data Generators (no augmentation)\n",
    "val_datagen = tf.keras.preprocessing.image.ImageDataGenerator(rescale=1./255)\n",
    "test_datagen = ImageDataGenerator(rescale=1./255)"
   ]
  },
  {
   "cell_type": "code",
   "execution_count": null,
   "id": "d4972776",
   "metadata": {},
   "outputs": [],
   "source": [
    "def simple_generator():\n",
    "    while True:\n",
    "        images, labels = next(train_generator)\n",
    "        weights = [class_weight[label.argmax()] for label in labels]  \n",
    "        weights = np.array(weights)  \n",
    "        yield images, labels, weights"
   ]
  },
  {
   "cell_type": "code",
   "execution_count": 13,
   "id": "9cc73589",
   "metadata": {
    "execution": {
     "iopub.execute_input": "2024-10-17T03:22:57.378084Z",
     "iopub.status.busy": "2024-10-17T03:22:57.377774Z",
     "iopub.status.idle": "2024-10-17T03:22:57.975223Z",
     "shell.execute_reply": "2024-10-17T03:22:57.974347Z"
    },
    "papermill": {
     "duration": 0.667436,
     "end_time": "2024-10-17T03:22:57.977172",
     "exception": false,
     "start_time": "2024-10-17T03:22:57.309736",
     "status": "completed"
    },
    "tags": []
   },
   "outputs": [
    {
     "name": "stdout",
     "output_type": "stream",
     "text": [
      "Found 9955 images belonging to 4 classes.\n",
      "Found 1242 images belonging to 4 classes.\n",
      "Found 1249 images belonging to 4 classes.\n"
     ]
    }
   ],
   "source": [
    "# Loading the datasets using ImageDataGenerator\n",
    "train_generator = train_datagen.flow_from_directory(\n",
    "    train_dir,\n",
    "    target_size=IMG_SIZE,\n",
    "    batch_size=BATCH_SIZE,\n",
    "    color_mode=COLOR_MODE,\n",
    "    class_mode='categorical'\n",
    ")\n",
    "\n",
    "val_generator = val_datagen.flow_from_directory(\n",
    "    val_dir,\n",
    "    target_size=IMG_SIZE,\n",
    "    batch_size=BATCH_SIZE,\n",
    "    color_mode=COLOR_MODE,\n",
    "    class_mode='categorical'\n",
    ")\n",
    "\n",
    "test_generator = test_datagen.flow_from_directory(\n",
    "    test_dir,\n",
    "    target_size=IMG_SIZE,\n",
    "    batch_size=BATCH_SIZE,\n",
    "    color_mode=COLOR_MODE,\n",
    "    class_mode='categorical',\n",
    "    shuffle=False\n",
    ")"
   ]
  },
  {
   "cell_type": "code",
   "execution_count": 14,
   "id": "a6946059",
   "metadata": {},
   "outputs": [
    {
     "name": "stdout",
     "output_type": "stream",
     "text": [
      "Class Distribution in Training Data:\n",
      "Class 0: 2967 images\n",
      "Class 1: 4061 images\n",
      "Class 2: 1101 images\n",
      "Class 3: 1826 images\n"
     ]
    }
   ],
   "source": [
    "unique_classes, counts = np.unique(train_generator.classes, return_counts=True)\n",
    "print(\"Class Distribution in Training Data:\")\n",
    "for cls, count in zip(unique_classes, counts):\n",
    "    print(f\"Class {cls}: {count} images\")"
   ]
  },
  {
   "cell_type": "code",
   "execution_count": 15,
   "id": "8e906efd",
   "metadata": {
    "execution": {
     "iopub.execute_input": "2024-10-17T03:22:58.113086Z",
     "iopub.status.busy": "2024-10-17T03:22:58.112784Z",
     "iopub.status.idle": "2024-10-17T03:22:58.917070Z",
     "shell.execute_reply": "2024-10-17T03:22:58.916307Z"
    },
    "papermill": {
     "duration": 0.874338,
     "end_time": "2024-10-17T03:22:58.919218",
     "exception": false,
     "start_time": "2024-10-17T03:22:58.044880",
     "status": "completed"
    },
    "tags": []
   },
   "outputs": [],
   "source": [
    "# Model Architecture\n",
    "model = Sequential([\n",
    "    # First Convolutional Block\n",
    "    Conv2D(32, (3, 3), activation='relu', input_shape=(150, 150, 1)),\n",
    "    BatchNormalization(),\n",
    "    MaxPooling2D(pool_size=(2, 2)),\n",
    "\n",
    "    # Second Convolutional Block\n",
    "    Conv2D(64, (3, 3), activation='relu'),\n",
    "    BatchNormalization(),\n",
    "    MaxPooling2D(pool_size=(2, 2)),\n",
    "\n",
    "    # Third Convolutional Block\n",
    "    Conv2D(128, (3, 3), activation='relu'),\n",
    "    BatchNormalization(),\n",
    "    MaxPooling2D(pool_size=(2, 2)),\n",
    "\n",
    "    # Fourth Convolutional Block\n",
    "    Conv2D(256, (3, 3), activation='relu'),\n",
    "    BatchNormalization(),\n",
    "    MaxPooling2D(pool_size=(2, 2)),\n",
    "\n",
    "    # Flatten the feature maps\n",
    "    Flatten(),\n",
    "\n",
    "    # Dense Layers\n",
    "    Dense(128, activation='relu'),\n",
    "    BatchNormalization(),\n",
    "    Dropout(0.5),\n",
    "\n",
    "    Dense(64, activation='relu'),\n",
    "    BatchNormalization(),\n",
    "    Dropout(0.5),\n",
    "\n",
    "    # Output Layer (4 classes: Normal, Cyst, Tumor, Stone)\n",
    "    Dense(4, activation='softmax')  # 4 classes for the 4 categories\n",
    "])"
   ]
  },
  {
   "cell_type": "code",
   "execution_count": 16,
   "id": "c919acc3",
   "metadata": {
    "execution": {
     "iopub.execute_input": "2024-10-17T03:22:59.056357Z",
     "iopub.status.busy": "2024-10-17T03:22:59.056025Z",
     "iopub.status.idle": "2024-10-17T03:22:59.075025Z",
     "shell.execute_reply": "2024-10-17T03:22:59.074338Z"
    },
    "papermill": {
     "duration": 0.089239,
     "end_time": "2024-10-17T03:22:59.076887",
     "exception": false,
     "start_time": "2024-10-17T03:22:58.987648",
     "status": "completed"
    },
    "tags": []
   },
   "outputs": [],
   "source": [
    "# Compile the model\n",
    "model.compile(optimizer='adam',\n",
    "              loss='categorical_crossentropy',\n",
    "              metrics=['accuracy', tf.keras.metrics.Precision(), tf.keras.metrics.Recall()])"
   ]
  },
  {
   "cell_type": "code",
   "execution_count": 17,
   "id": "2c61ee68",
   "metadata": {
    "execution": {
     "iopub.execute_input": "2024-10-17T03:22:59.213997Z",
     "iopub.status.busy": "2024-10-17T03:22:59.213153Z",
     "iopub.status.idle": "2024-10-17T03:22:59.246971Z",
     "shell.execute_reply": "2024-10-17T03:22:59.246174Z"
    },
    "papermill": {
     "duration": 0.104327,
     "end_time": "2024-10-17T03:22:59.248940",
     "exception": false,
     "start_time": "2024-10-17T03:22:59.144613",
     "status": "completed"
    },
    "tags": []
   },
   "outputs": [
    {
     "data": {
      "text/html": [
       "<pre style=\"white-space:pre;overflow-x:auto;line-height:normal;font-family:Menlo,'DejaVu Sans Mono',consolas,'Courier New',monospace\"><span style=\"font-weight: bold\">Model: \"sequential\"</span>\n",
       "</pre>\n"
      ],
      "text/plain": [
       "\u001b[1mModel: \"sequential\"\u001b[0m\n"
      ]
     },
     "metadata": {},
     "output_type": "display_data"
    },
    {
     "data": {
      "text/html": [
       "<pre style=\"white-space:pre;overflow-x:auto;line-height:normal;font-family:Menlo,'DejaVu Sans Mono',consolas,'Courier New',monospace\">┏━━━━━━━━━━━━━━━━━━━━━━━━━━━━━━━━━┳━━━━━━━━━━━━━━━━━━━━━━━━┳━━━━━━━━━━━━━━━┓\n",
       "┃<span style=\"font-weight: bold\"> Layer (type)                    </span>┃<span style=\"font-weight: bold\"> Output Shape           </span>┃<span style=\"font-weight: bold\">       Param # </span>┃\n",
       "┡━━━━━━━━━━━━━━━━━━━━━━━━━━━━━━━━━╇━━━━━━━━━━━━━━━━━━━━━━━━╇━━━━━━━━━━━━━━━┩\n",
       "│ conv2d (<span style=\"color: #0087ff; text-decoration-color: #0087ff\">Conv2D</span>)                 │ (<span style=\"color: #00d7ff; text-decoration-color: #00d7ff\">None</span>, <span style=\"color: #00af00; text-decoration-color: #00af00\">148</span>, <span style=\"color: #00af00; text-decoration-color: #00af00\">148</span>, <span style=\"color: #00af00; text-decoration-color: #00af00\">32</span>)   │           <span style=\"color: #00af00; text-decoration-color: #00af00\">320</span> │\n",
       "├─────────────────────────────────┼────────────────────────┼───────────────┤\n",
       "│ batch_normalization             │ (<span style=\"color: #00d7ff; text-decoration-color: #00d7ff\">None</span>, <span style=\"color: #00af00; text-decoration-color: #00af00\">148</span>, <span style=\"color: #00af00; text-decoration-color: #00af00\">148</span>, <span style=\"color: #00af00; text-decoration-color: #00af00\">32</span>)   │           <span style=\"color: #00af00; text-decoration-color: #00af00\">128</span> │\n",
       "│ (<span style=\"color: #0087ff; text-decoration-color: #0087ff\">BatchNormalization</span>)            │                        │               │\n",
       "├─────────────────────────────────┼────────────────────────┼───────────────┤\n",
       "│ max_pooling2d (<span style=\"color: #0087ff; text-decoration-color: #0087ff\">MaxPooling2D</span>)    │ (<span style=\"color: #00d7ff; text-decoration-color: #00d7ff\">None</span>, <span style=\"color: #00af00; text-decoration-color: #00af00\">74</span>, <span style=\"color: #00af00; text-decoration-color: #00af00\">74</span>, <span style=\"color: #00af00; text-decoration-color: #00af00\">32</span>)     │             <span style=\"color: #00af00; text-decoration-color: #00af00\">0</span> │\n",
       "├─────────────────────────────────┼────────────────────────┼───────────────┤\n",
       "│ conv2d_1 (<span style=\"color: #0087ff; text-decoration-color: #0087ff\">Conv2D</span>)               │ (<span style=\"color: #00d7ff; text-decoration-color: #00d7ff\">None</span>, <span style=\"color: #00af00; text-decoration-color: #00af00\">72</span>, <span style=\"color: #00af00; text-decoration-color: #00af00\">72</span>, <span style=\"color: #00af00; text-decoration-color: #00af00\">64</span>)     │        <span style=\"color: #00af00; text-decoration-color: #00af00\">18,496</span> │\n",
       "├─────────────────────────────────┼────────────────────────┼───────────────┤\n",
       "│ batch_normalization_1           │ (<span style=\"color: #00d7ff; text-decoration-color: #00d7ff\">None</span>, <span style=\"color: #00af00; text-decoration-color: #00af00\">72</span>, <span style=\"color: #00af00; text-decoration-color: #00af00\">72</span>, <span style=\"color: #00af00; text-decoration-color: #00af00\">64</span>)     │           <span style=\"color: #00af00; text-decoration-color: #00af00\">256</span> │\n",
       "│ (<span style=\"color: #0087ff; text-decoration-color: #0087ff\">BatchNormalization</span>)            │                        │               │\n",
       "├─────────────────────────────────┼────────────────────────┼───────────────┤\n",
       "│ max_pooling2d_1 (<span style=\"color: #0087ff; text-decoration-color: #0087ff\">MaxPooling2D</span>)  │ (<span style=\"color: #00d7ff; text-decoration-color: #00d7ff\">None</span>, <span style=\"color: #00af00; text-decoration-color: #00af00\">36</span>, <span style=\"color: #00af00; text-decoration-color: #00af00\">36</span>, <span style=\"color: #00af00; text-decoration-color: #00af00\">64</span>)     │             <span style=\"color: #00af00; text-decoration-color: #00af00\">0</span> │\n",
       "├─────────────────────────────────┼────────────────────────┼───────────────┤\n",
       "│ conv2d_2 (<span style=\"color: #0087ff; text-decoration-color: #0087ff\">Conv2D</span>)               │ (<span style=\"color: #00d7ff; text-decoration-color: #00d7ff\">None</span>, <span style=\"color: #00af00; text-decoration-color: #00af00\">34</span>, <span style=\"color: #00af00; text-decoration-color: #00af00\">34</span>, <span style=\"color: #00af00; text-decoration-color: #00af00\">128</span>)    │        <span style=\"color: #00af00; text-decoration-color: #00af00\">73,856</span> │\n",
       "├─────────────────────────────────┼────────────────────────┼───────────────┤\n",
       "│ batch_normalization_2           │ (<span style=\"color: #00d7ff; text-decoration-color: #00d7ff\">None</span>, <span style=\"color: #00af00; text-decoration-color: #00af00\">34</span>, <span style=\"color: #00af00; text-decoration-color: #00af00\">34</span>, <span style=\"color: #00af00; text-decoration-color: #00af00\">128</span>)    │           <span style=\"color: #00af00; text-decoration-color: #00af00\">512</span> │\n",
       "│ (<span style=\"color: #0087ff; text-decoration-color: #0087ff\">BatchNormalization</span>)            │                        │               │\n",
       "├─────────────────────────────────┼────────────────────────┼───────────────┤\n",
       "│ max_pooling2d_2 (<span style=\"color: #0087ff; text-decoration-color: #0087ff\">MaxPooling2D</span>)  │ (<span style=\"color: #00d7ff; text-decoration-color: #00d7ff\">None</span>, <span style=\"color: #00af00; text-decoration-color: #00af00\">17</span>, <span style=\"color: #00af00; text-decoration-color: #00af00\">17</span>, <span style=\"color: #00af00; text-decoration-color: #00af00\">128</span>)    │             <span style=\"color: #00af00; text-decoration-color: #00af00\">0</span> │\n",
       "├─────────────────────────────────┼────────────────────────┼───────────────┤\n",
       "│ conv2d_3 (<span style=\"color: #0087ff; text-decoration-color: #0087ff\">Conv2D</span>)               │ (<span style=\"color: #00d7ff; text-decoration-color: #00d7ff\">None</span>, <span style=\"color: #00af00; text-decoration-color: #00af00\">15</span>, <span style=\"color: #00af00; text-decoration-color: #00af00\">15</span>, <span style=\"color: #00af00; text-decoration-color: #00af00\">256</span>)    │       <span style=\"color: #00af00; text-decoration-color: #00af00\">295,168</span> │\n",
       "├─────────────────────────────────┼────────────────────────┼───────────────┤\n",
       "│ batch_normalization_3           │ (<span style=\"color: #00d7ff; text-decoration-color: #00d7ff\">None</span>, <span style=\"color: #00af00; text-decoration-color: #00af00\">15</span>, <span style=\"color: #00af00; text-decoration-color: #00af00\">15</span>, <span style=\"color: #00af00; text-decoration-color: #00af00\">256</span>)    │         <span style=\"color: #00af00; text-decoration-color: #00af00\">1,024</span> │\n",
       "│ (<span style=\"color: #0087ff; text-decoration-color: #0087ff\">BatchNormalization</span>)            │                        │               │\n",
       "├─────────────────────────────────┼────────────────────────┼───────────────┤\n",
       "│ max_pooling2d_3 (<span style=\"color: #0087ff; text-decoration-color: #0087ff\">MaxPooling2D</span>)  │ (<span style=\"color: #00d7ff; text-decoration-color: #00d7ff\">None</span>, <span style=\"color: #00af00; text-decoration-color: #00af00\">7</span>, <span style=\"color: #00af00; text-decoration-color: #00af00\">7</span>, <span style=\"color: #00af00; text-decoration-color: #00af00\">256</span>)      │             <span style=\"color: #00af00; text-decoration-color: #00af00\">0</span> │\n",
       "├─────────────────────────────────┼────────────────────────┼───────────────┤\n",
       "│ flatten (<span style=\"color: #0087ff; text-decoration-color: #0087ff\">Flatten</span>)               │ (<span style=\"color: #00d7ff; text-decoration-color: #00d7ff\">None</span>, <span style=\"color: #00af00; text-decoration-color: #00af00\">12544</span>)          │             <span style=\"color: #00af00; text-decoration-color: #00af00\">0</span> │\n",
       "├─────────────────────────────────┼────────────────────────┼───────────────┤\n",
       "│ dense (<span style=\"color: #0087ff; text-decoration-color: #0087ff\">Dense</span>)                   │ (<span style=\"color: #00d7ff; text-decoration-color: #00d7ff\">None</span>, <span style=\"color: #00af00; text-decoration-color: #00af00\">128</span>)            │     <span style=\"color: #00af00; text-decoration-color: #00af00\">1,605,760</span> │\n",
       "├─────────────────────────────────┼────────────────────────┼───────────────┤\n",
       "│ batch_normalization_4           │ (<span style=\"color: #00d7ff; text-decoration-color: #00d7ff\">None</span>, <span style=\"color: #00af00; text-decoration-color: #00af00\">128</span>)            │           <span style=\"color: #00af00; text-decoration-color: #00af00\">512</span> │\n",
       "│ (<span style=\"color: #0087ff; text-decoration-color: #0087ff\">BatchNormalization</span>)            │                        │               │\n",
       "├─────────────────────────────────┼────────────────────────┼───────────────┤\n",
       "│ dropout (<span style=\"color: #0087ff; text-decoration-color: #0087ff\">Dropout</span>)               │ (<span style=\"color: #00d7ff; text-decoration-color: #00d7ff\">None</span>, <span style=\"color: #00af00; text-decoration-color: #00af00\">128</span>)            │             <span style=\"color: #00af00; text-decoration-color: #00af00\">0</span> │\n",
       "├─────────────────────────────────┼────────────────────────┼───────────────┤\n",
       "│ dense_1 (<span style=\"color: #0087ff; text-decoration-color: #0087ff\">Dense</span>)                 │ (<span style=\"color: #00d7ff; text-decoration-color: #00d7ff\">None</span>, <span style=\"color: #00af00; text-decoration-color: #00af00\">64</span>)             │         <span style=\"color: #00af00; text-decoration-color: #00af00\">8,256</span> │\n",
       "├─────────────────────────────────┼────────────────────────┼───────────────┤\n",
       "│ batch_normalization_5           │ (<span style=\"color: #00d7ff; text-decoration-color: #00d7ff\">None</span>, <span style=\"color: #00af00; text-decoration-color: #00af00\">64</span>)             │           <span style=\"color: #00af00; text-decoration-color: #00af00\">256</span> │\n",
       "│ (<span style=\"color: #0087ff; text-decoration-color: #0087ff\">BatchNormalization</span>)            │                        │               │\n",
       "├─────────────────────────────────┼────────────────────────┼───────────────┤\n",
       "│ dropout_1 (<span style=\"color: #0087ff; text-decoration-color: #0087ff\">Dropout</span>)             │ (<span style=\"color: #00d7ff; text-decoration-color: #00d7ff\">None</span>, <span style=\"color: #00af00; text-decoration-color: #00af00\">64</span>)             │             <span style=\"color: #00af00; text-decoration-color: #00af00\">0</span> │\n",
       "├─────────────────────────────────┼────────────────────────┼───────────────┤\n",
       "│ dense_2 (<span style=\"color: #0087ff; text-decoration-color: #0087ff\">Dense</span>)                 │ (<span style=\"color: #00d7ff; text-decoration-color: #00d7ff\">None</span>, <span style=\"color: #00af00; text-decoration-color: #00af00\">4</span>)              │           <span style=\"color: #00af00; text-decoration-color: #00af00\">260</span> │\n",
       "└─────────────────────────────────┴────────────────────────┴───────────────┘\n",
       "</pre>\n"
      ],
      "text/plain": [
       "┏━━━━━━━━━━━━━━━━━━━━━━━━━━━━━━━━━┳━━━━━━━━━━━━━━━━━━━━━━━━┳━━━━━━━━━━━━━━━┓\n",
       "┃\u001b[1m \u001b[0m\u001b[1mLayer (type)                   \u001b[0m\u001b[1m \u001b[0m┃\u001b[1m \u001b[0m\u001b[1mOutput Shape          \u001b[0m\u001b[1m \u001b[0m┃\u001b[1m \u001b[0m\u001b[1m      Param #\u001b[0m\u001b[1m \u001b[0m┃\n",
       "┡━━━━━━━━━━━━━━━━━━━━━━━━━━━━━━━━━╇━━━━━━━━━━━━━━━━━━━━━━━━╇━━━━━━━━━━━━━━━┩\n",
       "│ conv2d (\u001b[38;5;33mConv2D\u001b[0m)                 │ (\u001b[38;5;45mNone\u001b[0m, \u001b[38;5;34m148\u001b[0m, \u001b[38;5;34m148\u001b[0m, \u001b[38;5;34m32\u001b[0m)   │           \u001b[38;5;34m320\u001b[0m │\n",
       "├─────────────────────────────────┼────────────────────────┼───────────────┤\n",
       "│ batch_normalization             │ (\u001b[38;5;45mNone\u001b[0m, \u001b[38;5;34m148\u001b[0m, \u001b[38;5;34m148\u001b[0m, \u001b[38;5;34m32\u001b[0m)   │           \u001b[38;5;34m128\u001b[0m │\n",
       "│ (\u001b[38;5;33mBatchNormalization\u001b[0m)            │                        │               │\n",
       "├─────────────────────────────────┼────────────────────────┼───────────────┤\n",
       "│ max_pooling2d (\u001b[38;5;33mMaxPooling2D\u001b[0m)    │ (\u001b[38;5;45mNone\u001b[0m, \u001b[38;5;34m74\u001b[0m, \u001b[38;5;34m74\u001b[0m, \u001b[38;5;34m32\u001b[0m)     │             \u001b[38;5;34m0\u001b[0m │\n",
       "├─────────────────────────────────┼────────────────────────┼───────────────┤\n",
       "│ conv2d_1 (\u001b[38;5;33mConv2D\u001b[0m)               │ (\u001b[38;5;45mNone\u001b[0m, \u001b[38;5;34m72\u001b[0m, \u001b[38;5;34m72\u001b[0m, \u001b[38;5;34m64\u001b[0m)     │        \u001b[38;5;34m18,496\u001b[0m │\n",
       "├─────────────────────────────────┼────────────────────────┼───────────────┤\n",
       "│ batch_normalization_1           │ (\u001b[38;5;45mNone\u001b[0m, \u001b[38;5;34m72\u001b[0m, \u001b[38;5;34m72\u001b[0m, \u001b[38;5;34m64\u001b[0m)     │           \u001b[38;5;34m256\u001b[0m │\n",
       "│ (\u001b[38;5;33mBatchNormalization\u001b[0m)            │                        │               │\n",
       "├─────────────────────────────────┼────────────────────────┼───────────────┤\n",
       "│ max_pooling2d_1 (\u001b[38;5;33mMaxPooling2D\u001b[0m)  │ (\u001b[38;5;45mNone\u001b[0m, \u001b[38;5;34m36\u001b[0m, \u001b[38;5;34m36\u001b[0m, \u001b[38;5;34m64\u001b[0m)     │             \u001b[38;5;34m0\u001b[0m │\n",
       "├─────────────────────────────────┼────────────────────────┼───────────────┤\n",
       "│ conv2d_2 (\u001b[38;5;33mConv2D\u001b[0m)               │ (\u001b[38;5;45mNone\u001b[0m, \u001b[38;5;34m34\u001b[0m, \u001b[38;5;34m34\u001b[0m, \u001b[38;5;34m128\u001b[0m)    │        \u001b[38;5;34m73,856\u001b[0m │\n",
       "├─────────────────────────────────┼────────────────────────┼───────────────┤\n",
       "│ batch_normalization_2           │ (\u001b[38;5;45mNone\u001b[0m, \u001b[38;5;34m34\u001b[0m, \u001b[38;5;34m34\u001b[0m, \u001b[38;5;34m128\u001b[0m)    │           \u001b[38;5;34m512\u001b[0m │\n",
       "│ (\u001b[38;5;33mBatchNormalization\u001b[0m)            │                        │               │\n",
       "├─────────────────────────────────┼────────────────────────┼───────────────┤\n",
       "│ max_pooling2d_2 (\u001b[38;5;33mMaxPooling2D\u001b[0m)  │ (\u001b[38;5;45mNone\u001b[0m, \u001b[38;5;34m17\u001b[0m, \u001b[38;5;34m17\u001b[0m, \u001b[38;5;34m128\u001b[0m)    │             \u001b[38;5;34m0\u001b[0m │\n",
       "├─────────────────────────────────┼────────────────────────┼───────────────┤\n",
       "│ conv2d_3 (\u001b[38;5;33mConv2D\u001b[0m)               │ (\u001b[38;5;45mNone\u001b[0m, \u001b[38;5;34m15\u001b[0m, \u001b[38;5;34m15\u001b[0m, \u001b[38;5;34m256\u001b[0m)    │       \u001b[38;5;34m295,168\u001b[0m │\n",
       "├─────────────────────────────────┼────────────────────────┼───────────────┤\n",
       "│ batch_normalization_3           │ (\u001b[38;5;45mNone\u001b[0m, \u001b[38;5;34m15\u001b[0m, \u001b[38;5;34m15\u001b[0m, \u001b[38;5;34m256\u001b[0m)    │         \u001b[38;5;34m1,024\u001b[0m │\n",
       "│ (\u001b[38;5;33mBatchNormalization\u001b[0m)            │                        │               │\n",
       "├─────────────────────────────────┼────────────────────────┼───────────────┤\n",
       "│ max_pooling2d_3 (\u001b[38;5;33mMaxPooling2D\u001b[0m)  │ (\u001b[38;5;45mNone\u001b[0m, \u001b[38;5;34m7\u001b[0m, \u001b[38;5;34m7\u001b[0m, \u001b[38;5;34m256\u001b[0m)      │             \u001b[38;5;34m0\u001b[0m │\n",
       "├─────────────────────────────────┼────────────────────────┼───────────────┤\n",
       "│ flatten (\u001b[38;5;33mFlatten\u001b[0m)               │ (\u001b[38;5;45mNone\u001b[0m, \u001b[38;5;34m12544\u001b[0m)          │             \u001b[38;5;34m0\u001b[0m │\n",
       "├─────────────────────────────────┼────────────────────────┼───────────────┤\n",
       "│ dense (\u001b[38;5;33mDense\u001b[0m)                   │ (\u001b[38;5;45mNone\u001b[0m, \u001b[38;5;34m128\u001b[0m)            │     \u001b[38;5;34m1,605,760\u001b[0m │\n",
       "├─────────────────────────────────┼────────────────────────┼───────────────┤\n",
       "│ batch_normalization_4           │ (\u001b[38;5;45mNone\u001b[0m, \u001b[38;5;34m128\u001b[0m)            │           \u001b[38;5;34m512\u001b[0m │\n",
       "│ (\u001b[38;5;33mBatchNormalization\u001b[0m)            │                        │               │\n",
       "├─────────────────────────────────┼────────────────────────┼───────────────┤\n",
       "│ dropout (\u001b[38;5;33mDropout\u001b[0m)               │ (\u001b[38;5;45mNone\u001b[0m, \u001b[38;5;34m128\u001b[0m)            │             \u001b[38;5;34m0\u001b[0m │\n",
       "├─────────────────────────────────┼────────────────────────┼───────────────┤\n",
       "│ dense_1 (\u001b[38;5;33mDense\u001b[0m)                 │ (\u001b[38;5;45mNone\u001b[0m, \u001b[38;5;34m64\u001b[0m)             │         \u001b[38;5;34m8,256\u001b[0m │\n",
       "├─────────────────────────────────┼────────────────────────┼───────────────┤\n",
       "│ batch_normalization_5           │ (\u001b[38;5;45mNone\u001b[0m, \u001b[38;5;34m64\u001b[0m)             │           \u001b[38;5;34m256\u001b[0m │\n",
       "│ (\u001b[38;5;33mBatchNormalization\u001b[0m)            │                        │               │\n",
       "├─────────────────────────────────┼────────────────────────┼───────────────┤\n",
       "│ dropout_1 (\u001b[38;5;33mDropout\u001b[0m)             │ (\u001b[38;5;45mNone\u001b[0m, \u001b[38;5;34m64\u001b[0m)             │             \u001b[38;5;34m0\u001b[0m │\n",
       "├─────────────────────────────────┼────────────────────────┼───────────────┤\n",
       "│ dense_2 (\u001b[38;5;33mDense\u001b[0m)                 │ (\u001b[38;5;45mNone\u001b[0m, \u001b[38;5;34m4\u001b[0m)              │           \u001b[38;5;34m260\u001b[0m │\n",
       "└─────────────────────────────────┴────────────────────────┴───────────────┘\n"
      ]
     },
     "metadata": {},
     "output_type": "display_data"
    },
    {
     "data": {
      "text/html": [
       "<pre style=\"white-space:pre;overflow-x:auto;line-height:normal;font-family:Menlo,'DejaVu Sans Mono',consolas,'Courier New',monospace\"><span style=\"font-weight: bold\"> Total params: </span><span style=\"color: #00af00; text-decoration-color: #00af00\">2,004,804</span> (7.65 MB)\n",
       "</pre>\n"
      ],
      "text/plain": [
       "\u001b[1m Total params: \u001b[0m\u001b[38;5;34m2,004,804\u001b[0m (7.65 MB)\n"
      ]
     },
     "metadata": {},
     "output_type": "display_data"
    },
    {
     "data": {
      "text/html": [
       "<pre style=\"white-space:pre;overflow-x:auto;line-height:normal;font-family:Menlo,'DejaVu Sans Mono',consolas,'Courier New',monospace\"><span style=\"font-weight: bold\"> Trainable params: </span><span style=\"color: #00af00; text-decoration-color: #00af00\">2,003,460</span> (7.64 MB)\n",
       "</pre>\n"
      ],
      "text/plain": [
       "\u001b[1m Trainable params: \u001b[0m\u001b[38;5;34m2,003,460\u001b[0m (7.64 MB)\n"
      ]
     },
     "metadata": {},
     "output_type": "display_data"
    },
    {
     "data": {
      "text/html": [
       "<pre style=\"white-space:pre;overflow-x:auto;line-height:normal;font-family:Menlo,'DejaVu Sans Mono',consolas,'Courier New',monospace\"><span style=\"font-weight: bold\"> Non-trainable params: </span><span style=\"color: #00af00; text-decoration-color: #00af00\">1,344</span> (5.25 KB)\n",
       "</pre>\n"
      ],
      "text/plain": [
       "\u001b[1m Non-trainable params: \u001b[0m\u001b[38;5;34m1,344\u001b[0m (5.25 KB)\n"
      ]
     },
     "metadata": {},
     "output_type": "display_data"
    }
   ],
   "source": [
    "# Model Summary\n",
    "model.summary()"
   ]
  },
  {
   "cell_type": "code",
   "execution_count": null,
   "id": "4324cb96",
   "metadata": {},
   "outputs": [],
   "source": [
    "for layer in model.layers:\n",
    "    print(f\"Layer: {layer.name}, Input Shape: {layer.input_shape}, Output Shape: {layer.output_shape}\")\n"
   ]
  },
  {
   "cell_type": "code",
   "execution_count": 18,
   "id": "a584c7ee",
   "metadata": {},
   "outputs": [
    {
     "name": "stdout",
     "output_type": "stream",
     "text": [
      "Class Indices Mapping: {'Cyst': 0, 'Normal': 1, 'Stone': 2, 'Tumor': 3}\n"
     ]
    }
   ],
   "source": [
    "print(\"Class Indices Mapping:\", train_generator.class_indices)"
   ]
  },
  {
   "cell_type": "code",
   "execution_count": 19,
   "id": "4ac74884",
   "metadata": {},
   "outputs": [
    {
     "name": "stdout",
     "output_type": "stream",
     "text": [
      "Computed Class Weights: {0: 0.8388102460397708, 1: 0.612841664614627, 2: 2.260445049954587, 3: 1.3629518072289157}\n"
     ]
    }
   ],
   "source": [
    "# Compute class weights\n",
    "class_weight_list = compute_class_weight(\n",
    "    class_weight='balanced',\n",
    "    classes=np.unique(train_generator.classes),\n",
    "    y=train_generator.classes\n",
    ")\n",
    "\n",
    "# Convert to dictionary\n",
    "class_weight = dict(enumerate(class_weight_list))\n",
    "\n",
    "# Convert values to Python float\n",
    "class_weight = {k: float(v) for k, v in class_weight.items()}\n",
    "\n",
    "print(\"Computed Class Weights:\", class_weight)"
   ]
  },
  {
   "cell_type": "code",
   "execution_count": 20,
   "id": "a8585106",
   "metadata": {
    "execution": {
     "iopub.execute_input": "2024-10-17T03:22:59.427117Z",
     "iopub.status.busy": "2024-10-17T03:22:59.426159Z",
     "iopub.status.idle": "2024-10-17T03:22:59.432019Z",
     "shell.execute_reply": "2024-10-17T03:22:59.431067Z"
    },
    "papermill": {
     "duration": 0.115035,
     "end_time": "2024-10-17T03:22:59.433883",
     "exception": false,
     "start_time": "2024-10-17T03:22:59.318848",
     "status": "completed"
    },
    "tags": []
   },
   "outputs": [],
   "source": [
    "# Callbacks\n",
    "tensorboard = TensorBoard(log_dir='./logs')\n",
    "early_stopping = EarlyStopping(monitor='val_loss', patience=7, restore_best_weights=True)\n",
    "model_checkpoint = ModelCheckpoint('kidney_disease_model.keras', save_best_only=True, monitor='val_accuracy')\n",
    "annealer = LearningRateScheduler(lambda epoch: 1e-3 * 0.98 ** epoch, verbose=1)"
   ]
  },
  {
   "cell_type": "code",
   "execution_count": 21,
   "id": "a5c7a448",
   "metadata": {},
   "outputs": [
    {
     "name": "stdout",
     "output_type": "stream",
     "text": [
      "\n",
      "Epoch 1: LearningRateScheduler setting learning rate to 0.001.\n",
      "Epoch 1/50\n",
      "\u001b[1m312/312\u001b[0m \u001b[32m━━━━━━━━━━━━━━━━━━━━\u001b[0m\u001b[37m\u001b[0m \u001b[1m452s\u001b[0m 1s/step - accuracy: 0.4337 - loss: 1.6548 - precision: 0.4663 - recall: 0.3672 - val_accuracy: 0.2979 - val_loss: 18.1890 - val_precision: 0.2979 - val_recall: 0.2979 - learning_rate: 0.0010\n",
      "\n",
      "Epoch 2: LearningRateScheduler setting learning rate to 0.00098.\n",
      "Epoch 2/50\n",
      "\u001b[1m312/312\u001b[0m \u001b[32m━━━━━━━━━━━━━━━━━━━━\u001b[0m\u001b[37m\u001b[0m \u001b[1m269s\u001b[0m 861ms/step - accuracy: 0.5624 - loss: 1.0885 - precision: 0.6012 - recall: 0.4697 - val_accuracy: 0.3108 - val_loss: 3.8134 - val_precision: 0.3117 - val_recall: 0.3100 - learning_rate: 9.8000e-04\n",
      "\n",
      "Epoch 3: LearningRateScheduler setting learning rate to 0.0009603999999999999.\n",
      "Epoch 3/50\n",
      "\u001b[1m312/312\u001b[0m \u001b[32m━━━━━━━━━━━━━━━━━━━━\u001b[0m\u001b[37m\u001b[0m \u001b[1m268s\u001b[0m 858ms/step - accuracy: 0.6914 - loss: 0.7735 - precision: 0.7330 - recall: 0.6278 - val_accuracy: 0.5998 - val_loss: 1.0669 - val_precision: 0.6114 - val_recall: 0.5548 - learning_rate: 9.6040e-04\n",
      "\n",
      "Epoch 4: LearningRateScheduler setting learning rate to 0.000941192.\n",
      "Epoch 4/50\n",
      "\u001b[1m312/312\u001b[0m \u001b[32m━━━━━━━━━━━━━━━━━━━━\u001b[0m\u001b[37m\u001b[0m \u001b[1m292s\u001b[0m 938ms/step - accuracy: 0.7626 - loss: 0.5829 - precision: 0.7917 - recall: 0.7252 - val_accuracy: 0.5531 - val_loss: 1.5993 - val_precision: 0.5641 - val_recall: 0.5419 - learning_rate: 9.4119e-04\n",
      "\n",
      "Epoch 5: LearningRateScheduler setting learning rate to 0.0009223681599999999.\n",
      "Epoch 5/50\n",
      "\u001b[1m312/312\u001b[0m \u001b[32m━━━━━━━━━━━━━━━━━━━━\u001b[0m\u001b[37m\u001b[0m \u001b[1m297s\u001b[0m 953ms/step - accuracy: 0.7750 - loss: 0.5445 - precision: 0.8049 - recall: 0.7473 - val_accuracy: 0.6208 - val_loss: 1.0588 - val_precision: 0.6288 - val_recall: 0.5934 - learning_rate: 9.2237e-04\n",
      "\n",
      "Epoch 6: LearningRateScheduler setting learning rate to 0.0009039207967999999.\n",
      "Epoch 6/50\n",
      "\u001b[1m312/312\u001b[0m \u001b[32m━━━━━━━━━━━━━━━━━━━━\u001b[0m\u001b[37m\u001b[0m \u001b[1m291s\u001b[0m 933ms/step - accuracy: 0.8541 - loss: 0.3907 - precision: 0.8689 - recall: 0.8378 - val_accuracy: 0.6554 - val_loss: 1.3023 - val_precision: 0.6637 - val_recall: 0.6498 - learning_rate: 9.0392e-04\n",
      "\n",
      "Epoch 7: LearningRateScheduler setting learning rate to 0.0008858423808639999.\n",
      "Epoch 7/50\n",
      "\u001b[1m312/312\u001b[0m \u001b[32m━━━━━━━━━━━━━━━━━━━━\u001b[0m\u001b[37m\u001b[0m \u001b[1m288s\u001b[0m 924ms/step - accuracy: 0.8690 - loss: 0.3408 - precision: 0.8790 - recall: 0.8545 - val_accuracy: 0.6586 - val_loss: 1.1016 - val_precision: 0.6712 - val_recall: 0.6425 - learning_rate: 8.8584e-04\n",
      "\n",
      "Epoch 8: LearningRateScheduler setting learning rate to 0.00086812553324672.\n",
      "Epoch 8/50\n",
      "\u001b[1m312/312\u001b[0m \u001b[32m━━━━━━━━━━━━━━━━━━━━\u001b[0m\u001b[37m\u001b[0m \u001b[1m256s\u001b[0m 821ms/step - accuracy: 0.8947 - loss: 0.2834 - precision: 0.9044 - recall: 0.8862 - val_accuracy: 0.8712 - val_loss: 0.3612 - val_precision: 0.8759 - val_recall: 0.8639 - learning_rate: 8.6813e-04\n",
      "\n",
      "Epoch 9: LearningRateScheduler setting learning rate to 0.0008507630225817855.\n",
      "Epoch 9/50\n",
      "\u001b[1m312/312\u001b[0m \u001b[32m━━━━━━━━━━━━━━━━━━━━\u001b[0m\u001b[37m\u001b[0m \u001b[1m268s\u001b[0m 860ms/step - accuracy: 0.9037 - loss: 0.2747 - precision: 0.9098 - recall: 0.8977 - val_accuracy: 0.8382 - val_loss: 0.4609 - val_precision: 0.8472 - val_recall: 0.8349 - learning_rate: 8.5076e-04\n",
      "\n",
      "Epoch 10: LearningRateScheduler setting learning rate to 0.0008337477621301498.\n",
      "Epoch 10/50\n",
      "\u001b[1m312/312\u001b[0m \u001b[32m━━━━━━━━━━━━━━━━━━━━\u001b[0m\u001b[37m\u001b[0m \u001b[1m297s\u001b[0m 953ms/step - accuracy: 0.8990 - loss: 0.2980 - precision: 0.9053 - recall: 0.8935 - val_accuracy: 0.9042 - val_loss: 0.2772 - val_precision: 0.9062 - val_recall: 0.9026 - learning_rate: 8.3375e-04\n",
      "\n",
      "Epoch 11: LearningRateScheduler setting learning rate to 0.0008170728068875468.\n",
      "Epoch 11/50\n",
      "\u001b[1m312/312\u001b[0m \u001b[32m━━━━━━━━━━━━━━━━━━━━\u001b[0m\u001b[37m\u001b[0m \u001b[1m315s\u001b[0m 1s/step - accuracy: 0.9260 - loss: 0.2066 - precision: 0.9313 - recall: 0.9217 - val_accuracy: 0.8744 - val_loss: 0.3824 - val_precision: 0.8768 - val_recall: 0.8712 - learning_rate: 8.1707e-04\n",
      "\n",
      "Epoch 12: LearningRateScheduler setting learning rate to 0.0008007313507497959.\n",
      "Epoch 12/50\n",
      "\u001b[1m312/312\u001b[0m \u001b[32m━━━━━━━━━━━━━━━━━━━━\u001b[0m\u001b[37m\u001b[0m \u001b[1m299s\u001b[0m 957ms/step - accuracy: 0.8942 - loss: 0.3142 - precision: 0.8996 - recall: 0.8861 - val_accuracy: 0.8808 - val_loss: 0.3426 - val_precision: 0.8850 - val_recall: 0.8736 - learning_rate: 8.0073e-04\n",
      "\n",
      "Epoch 13: LearningRateScheduler setting learning rate to 0.0007847167237347998.\n",
      "Epoch 13/50\n",
      "\u001b[1m312/312\u001b[0m \u001b[32m━━━━━━━━━━━━━━━━━━━━\u001b[0m\u001b[37m\u001b[0m \u001b[1m298s\u001b[0m 956ms/step - accuracy: 0.9435 - loss: 0.1610 - precision: 0.9477 - recall: 0.9394 - val_accuracy: 0.9501 - val_loss: 0.1455 - val_precision: 0.9532 - val_recall: 0.9501 - learning_rate: 7.8472e-04\n",
      "\n",
      "Epoch 14: LearningRateScheduler setting learning rate to 0.0007690223892601038.\n",
      "Epoch 14/50\n",
      "\u001b[1m312/312\u001b[0m \u001b[32m━━━━━━━━━━━━━━━━━━━━\u001b[0m\u001b[37m\u001b[0m \u001b[1m304s\u001b[0m 973ms/step - accuracy: 0.9424 - loss: 0.1673 - precision: 0.9447 - recall: 0.9377 - val_accuracy: 0.6602 - val_loss: 1.1313 - val_precision: 0.6746 - val_recall: 0.6377 - learning_rate: 7.6902e-04\n",
      "\n",
      "Epoch 15: LearningRateScheduler setting learning rate to 0.0007536419414749017.\n",
      "Epoch 15/50\n",
      "\u001b[1m312/312\u001b[0m \u001b[32m━━━━━━━━━━━━━━━━━━━━\u001b[0m\u001b[37m\u001b[0m \u001b[1m299s\u001b[0m 959ms/step - accuracy: 0.9506 - loss: 0.1422 - precision: 0.9521 - recall: 0.9467 - val_accuracy: 0.9179 - val_loss: 0.2611 - val_precision: 0.9251 - val_recall: 0.9147 - learning_rate: 7.5364e-04\n",
      "\n",
      "Epoch 16: LearningRateScheduler setting learning rate to 0.0007385691026454038.\n",
      "Epoch 16/50\n",
      "\u001b[1m312/312\u001b[0m \u001b[32m━━━━━━━━━━━━━━━━━━━━\u001b[0m\u001b[37m\u001b[0m \u001b[1m294s\u001b[0m 944ms/step - accuracy: 0.9503 - loss: 0.1503 - precision: 0.9534 - recall: 0.9490 - val_accuracy: 0.9251 - val_loss: 0.1991 - val_precision: 0.9279 - val_recall: 0.9227 - learning_rate: 7.3857e-04\n",
      "\n",
      "Epoch 17: LearningRateScheduler setting learning rate to 0.0007237977205924956.\n",
      "Epoch 17/50\n",
      "\u001b[1m312/312\u001b[0m \u001b[32m━━━━━━━━━━━━━━━━━━━━\u001b[0m\u001b[37m\u001b[0m \u001b[1m300s\u001b[0m 961ms/step - accuracy: 0.9546 - loss: 0.1279 - precision: 0.9580 - recall: 0.9530 - val_accuracy: 0.8929 - val_loss: 0.3836 - val_precision: 0.8942 - val_recall: 0.8913 - learning_rate: 7.2380e-04\n",
      "\n",
      "Epoch 18: LearningRateScheduler setting learning rate to 0.0007093217661806457.\n",
      "Epoch 18/50\n",
      "\u001b[1m312/312\u001b[0m \u001b[32m━━━━━━━━━━━━━━━━━━━━\u001b[0m\u001b[37m\u001b[0m \u001b[1m294s\u001b[0m 944ms/step - accuracy: 0.9613 - loss: 0.1151 - precision: 0.9643 - recall: 0.9595 - val_accuracy: 0.9541 - val_loss: 0.1242 - val_precision: 0.9548 - val_recall: 0.9517 - learning_rate: 7.0932e-04\n",
      "\n",
      "Epoch 19: LearningRateScheduler setting learning rate to 0.0006951353308570327.\n",
      "Epoch 19/50\n",
      "\u001b[1m312/312\u001b[0m \u001b[32m━━━━━━━━━━━━━━━━━━━━\u001b[0m\u001b[37m\u001b[0m \u001b[1m295s\u001b[0m 947ms/step - accuracy: 0.9669 - loss: 0.0978 - precision: 0.9692 - recall: 0.9651 - val_accuracy: 0.8784 - val_loss: 0.4282 - val_precision: 0.8810 - val_recall: 0.8760 - learning_rate: 6.9514e-04\n",
      "\n",
      "Epoch 20: LearningRateScheduler setting learning rate to 0.000681232624239892.\n",
      "Epoch 20/50\n",
      "\u001b[1m312/312\u001b[0m \u001b[32m━━━━━━━━━━━━━━━━━━━━\u001b[0m\u001b[37m\u001b[0m \u001b[1m292s\u001b[0m 937ms/step - accuracy: 0.9224 - loss: 0.2487 - precision: 0.9245 - recall: 0.9192 - val_accuracy: 0.9509 - val_loss: 0.1238 - val_precision: 0.9516 - val_recall: 0.9501 - learning_rate: 6.8123e-04\n",
      "\n",
      "Epoch 21: LearningRateScheduler setting learning rate to 0.0006676079717550942.\n",
      "Epoch 21/50\n",
      "\u001b[1m312/312\u001b[0m \u001b[32m━━━━━━━━━━━━━━━━━━━━\u001b[0m\u001b[37m\u001b[0m \u001b[1m242s\u001b[0m 777ms/step - accuracy: 0.9682 - loss: 0.1012 - precision: 0.9702 - recall: 0.9661 - val_accuracy: 0.9654 - val_loss: 0.1161 - val_precision: 0.9654 - val_recall: 0.9654 - learning_rate: 6.6761e-04\n",
      "\n",
      "Epoch 22: LearningRateScheduler setting learning rate to 0.0006542558123199923.\n",
      "Epoch 22/50\n",
      "\u001b[1m312/312\u001b[0m \u001b[32m━━━━━━━━━━━━━━━━━━━━\u001b[0m\u001b[37m\u001b[0m \u001b[1m247s\u001b[0m 793ms/step - accuracy: 0.9649 - loss: 0.0997 - precision: 0.9661 - recall: 0.9635 - val_accuracy: 0.8559 - val_loss: 0.5919 - val_precision: 0.8603 - val_recall: 0.8527 - learning_rate: 6.5426e-04\n",
      "\n",
      "Epoch 23: LearningRateScheduler setting learning rate to 0.0006411706960735925.\n",
      "Epoch 23/50\n",
      "\u001b[1m312/312\u001b[0m \u001b[32m━━━━━━━━━━━━━━━━━━━━\u001b[0m\u001b[37m\u001b[0m \u001b[1m259s\u001b[0m 831ms/step - accuracy: 0.9682 - loss: 0.0954 - precision: 0.9700 - recall: 0.9671 - val_accuracy: 0.9452 - val_loss: 0.1809 - val_precision: 0.9452 - val_recall: 0.9436 - learning_rate: 6.4117e-04\n",
      "\n",
      "Epoch 24: LearningRateScheduler setting learning rate to 0.0006283472821521207.\n",
      "Epoch 24/50\n",
      "\u001b[1m312/312\u001b[0m \u001b[32m━━━━━━━━━━━━━━━━━━━━\u001b[0m\u001b[37m\u001b[0m \u001b[1m287s\u001b[0m 920ms/step - accuracy: 0.9735 - loss: 0.0848 - precision: 0.9757 - recall: 0.9723 - val_accuracy: 0.9903 - val_loss: 0.0391 - val_precision: 0.9903 - val_recall: 0.9895 - learning_rate: 6.2835e-04\n",
      "\n",
      "Epoch 25: LearningRateScheduler setting learning rate to 0.0006157803365090783.\n",
      "Epoch 25/50\n",
      "\u001b[1m312/312\u001b[0m \u001b[32m━━━━━━━━━━━━━━━━━━━━\u001b[0m\u001b[37m\u001b[0m \u001b[1m294s\u001b[0m 941ms/step - accuracy: 0.9751 - loss: 0.0726 - precision: 0.9768 - recall: 0.9744 - val_accuracy: 0.9847 - val_loss: 0.0447 - val_precision: 0.9863 - val_recall: 0.9831 - learning_rate: 6.1578e-04\n",
      "\n",
      "Epoch 26: LearningRateScheduler setting learning rate to 0.0006034647297788967.\n",
      "Epoch 26/50\n",
      "\u001b[1m312/312\u001b[0m \u001b[32m━━━━━━━━━━━━━━━━━━━━\u001b[0m\u001b[37m\u001b[0m \u001b[1m292s\u001b[0m 938ms/step - accuracy: 0.9337 - loss: 0.2076 - precision: 0.9365 - recall: 0.9318 - val_accuracy: 0.9364 - val_loss: 0.2053 - val_precision: 0.9364 - val_recall: 0.9364 - learning_rate: 6.0346e-04\n",
      "\n",
      "Epoch 27: LearningRateScheduler setting learning rate to 0.0005913954351833187.\n",
      "Epoch 27/50\n",
      "\u001b[1m312/312\u001b[0m \u001b[32m━━━━━━━━━━━━━━━━━━━━\u001b[0m\u001b[37m\u001b[0m \u001b[1m299s\u001b[0m 960ms/step - accuracy: 0.9652 - loss: 0.1017 - precision: 0.9663 - recall: 0.9644 - val_accuracy: 0.8913 - val_loss: 0.4274 - val_precision: 0.8926 - val_recall: 0.8897 - learning_rate: 5.9140e-04\n",
      "\n",
      "Epoch 28: LearningRateScheduler setting learning rate to 0.0005795675264796523.\n",
      "Epoch 28/50\n",
      "\u001b[1m312/312\u001b[0m \u001b[32m━━━━━━━━━━━━━━━━━━━━\u001b[0m\u001b[37m\u001b[0m \u001b[1m295s\u001b[0m 947ms/step - accuracy: 0.9766 - loss: 0.0725 - precision: 0.9776 - recall: 0.9751 - val_accuracy: 0.9581 - val_loss: 0.1253 - val_precision: 0.9605 - val_recall: 0.9581 - learning_rate: 5.7957e-04\n",
      "\n",
      "Epoch 29: LearningRateScheduler setting learning rate to 0.0005679761759500592.\n",
      "Epoch 29/50\n",
      "\u001b[1m312/312\u001b[0m \u001b[32m━━━━━━━━━━━━━━━━━━━━\u001b[0m\u001b[37m\u001b[0m \u001b[1m294s\u001b[0m 944ms/step - accuracy: 0.9783 - loss: 0.0665 - precision: 0.9803 - recall: 0.9772 - val_accuracy: 0.9098 - val_loss: 0.3082 - val_precision: 0.9120 - val_recall: 0.9098 - learning_rate: 5.6798e-04\n",
      "\n",
      "Epoch 30: LearningRateScheduler setting learning rate to 0.0005566166524310581.\n",
      "Epoch 30/50\n",
      "\u001b[1m312/312\u001b[0m \u001b[32m━━━━━━━━━━━━━━━━━━━━\u001b[0m\u001b[37m\u001b[0m \u001b[1m299s\u001b[0m 960ms/step - accuracy: 0.9814 - loss: 0.0518 - precision: 0.9829 - recall: 0.9806 - val_accuracy: 0.9726 - val_loss: 0.0894 - val_precision: 0.9726 - val_recall: 0.9726 - learning_rate: 5.5662e-04\n",
      "\n",
      "Epoch 31: LearningRateScheduler setting learning rate to 0.0005454843193824369.\n",
      "Epoch 31/50\n",
      "\u001b[1m312/312\u001b[0m \u001b[32m━━━━━━━━━━━━━━━━━━━━\u001b[0m\u001b[37m\u001b[0m \u001b[1m298s\u001b[0m 957ms/step - accuracy: 0.9621 - loss: 0.1226 - precision: 0.9633 - recall: 0.9615 - val_accuracy: 0.9614 - val_loss: 0.1420 - val_precision: 0.9613 - val_recall: 0.9597 - learning_rate: 5.4548e-04\n"
     ]
    }
   ],
   "source": [
    "# Training the model\n",
    "history = model.fit(\n",
    "    simple_generator(),  # Use simple_generator instead of train_generator\n",
    "    steps_per_epoch=len(train_generator),  # Ensure the number of steps per epoch is correct\n",
    "    epochs=50,\n",
    "    validation_data=val_generator,\n",
    "    validation_steps=len(val_generator),  # Set validation steps\n",
    "    callbacks=[early_stopping, model_checkpoint, tensorboard, annealer]\n",
    ")"
   ]
  },
  {
   "cell_type": "code",
   "execution_count": 22,
   "id": "a57ef323",
   "metadata": {
    "execution": {
     "iopub.execute_input": "2024-10-17T03:51:47.660936Z",
     "iopub.status.busy": "2024-10-17T03:51:47.660541Z",
     "iopub.status.idle": "2024-10-17T03:51:52.520549Z",
     "shell.execute_reply": "2024-10-17T03:51:52.519561Z"
    },
    "papermill": {
     "duration": 5.677694,
     "end_time": "2024-10-17T03:51:52.522472",
     "exception": false,
     "start_time": "2024-10-17T03:51:46.844778",
     "status": "completed"
    },
    "tags": []
   },
   "outputs": [
    {
     "name": "stdout",
     "output_type": "stream",
     "text": [
      "\u001b[1m40/40\u001b[0m \u001b[32m━━━━━━━━━━━━━━━━━━━━\u001b[0m\u001b[37m\u001b[0m \u001b[1m28s\u001b[0m 695ms/step - accuracy: 0.9909 - loss: 0.0258 - precision: 0.9909 - recall: 0.9909\n",
      "Test Accuracy: 0.989591658115387\n",
      "Test Precision: 0.989591658115387\n",
      "Test Recall: 0.989591658115387\n"
     ]
    }
   ],
   "source": [
    "# Evaluate on the test set\n",
    "test_loss, test_accuracy, test_precision, test_recall = model.evaluate(test_generator)\n",
    "print(f'Test Accuracy: {test_accuracy}')\n",
    "print(f'Test Precision: {test_precision}')\n",
    "print(f'Test Recall: {test_recall}')"
   ]
  },
  {
   "cell_type": "code",
   "execution_count": 23,
   "id": "3ef3b198",
   "metadata": {
    "execution": {
     "iopub.execute_input": "2024-10-17T03:51:54.188981Z",
     "iopub.status.busy": "2024-10-17T03:51:54.187974Z",
     "iopub.status.idle": "2024-10-17T03:51:59.292533Z",
     "shell.execute_reply": "2024-10-17T03:51:59.291537Z"
    },
    "papermill": {
     "duration": 5.921642,
     "end_time": "2024-10-17T03:51:59.294719",
     "exception": false,
     "start_time": "2024-10-17T03:51:53.373077",
     "status": "completed"
    },
    "tags": []
   },
   "outputs": [
    {
     "name": "stdout",
     "output_type": "stream",
     "text": [
      "\u001b[1m40/40\u001b[0m \u001b[32m━━━━━━━━━━━━━━━━━━━━\u001b[0m\u001b[37m\u001b[0m \u001b[1m14s\u001b[0m 337ms/step\n"
     ]
    }
   ],
   "source": [
    "# Predictions on the test set\n",
    "Y_pred = model.predict(test_generator)\n",
    "y_pred = np.argmax(Y_pred, axis=1)"
   ]
  },
  {
   "cell_type": "code",
   "execution_count": null,
   "id": "f91e8a82",
   "metadata": {
    "execution": {
     "iopub.execute_input": "2024-10-17T03:52:01.012509Z",
     "iopub.status.busy": "2024-10-17T03:52:01.011712Z",
     "iopub.status.idle": "2024-10-17T03:52:01.029664Z",
     "shell.execute_reply": "2024-10-17T03:52:01.028641Z"
    },
    "papermill": {
     "duration": 0.853872,
     "end_time": "2024-10-17T03:52:01.031522",
     "exception": false,
     "start_time": "2024-10-17T03:52:00.177650",
     "status": "completed"
    },
    "tags": []
   },
   "outputs": [
    {
     "data": {
      "image/png": "[encoded data removed]",
      "text/plain": [
       "<Figure size 1000x800 with 2 Axes>"
      ]
     },
     "metadata": {},
     "output_type": "display_data"
    }
   ],
   "source": [
    "# Confusion Matrix Heatmap\n",
    "class_names = list(test_generator.class_indices.keys())\n",
    "cm = confusion_matrix(test_generator.classes, y_pred) \n",
    "\n",
    "# Plotting the confusion matrix heatmap\n",
    "plt.figure(figsize=(10, 8))\n",
    "sns.heatmap(cm, annot=True, fmt='d', cmap='Blues', xticklabels=class_names, yticklabels=class_names)\n",
    "plt.xlabel('Predicted')\n",
    "plt.ylabel('True Label')\n",
    "plt.title('Confusion Matrix')\n",
    "plt.show()"
   ]
  },
  {
   "cell_type": "code",
   "execution_count": 40,
   "id": "8635f64e",
   "metadata": {},
   "outputs": [
    {
     "name": "stdout",
     "output_type": "stream",
     "text": [
      "Classification Report:\n",
      "              precision    recall  f1-score   support\n",
      "\n",
      "      Normal       1.00      0.99      0.99       372\n",
      "        Cyst       0.99      0.99      0.99       509\n",
      "       Tumor       1.00      0.99      1.00       139\n",
      "       Stone       0.97      0.98      0.97       229\n",
      "\n",
      "    accuracy                           0.99      1249\n",
      "   macro avg       0.99      0.99      0.99      1249\n",
      "weighted avg       0.99      0.99      0.99      1249\n",
      "\n"
     ]
    }
   ],
   "source": [
    "# Classification Report\n",
    "# Convert probabilities to class labels\n",
    "y_pred_class = np.argmax(y_pred, axis=1)  # This will give you the class indices (0, 1, 2, or 3)\n",
    "\n",
    "target_names = ['Normal', 'Cyst', 'Tumor', 'Stone']\n",
    "\n",
    "# Generate the classification report\n",
    "print(\"Classification Report:\")\n",
    "print(classification_report(y_true, y_pred_class, target_names=target_names))\n"
   ]
  },
  {
   "cell_type": "code",
   "execution_count": 28,
   "id": "ed5dd10b",
   "metadata": {
    "execution": {
     "iopub.execute_input": "2024-10-17T03:52:02.695789Z",
     "iopub.status.busy": "2024-10-17T03:52:02.694934Z",
     "iopub.status.idle": "2024-10-17T03:52:03.305925Z",
     "shell.execute_reply": "2024-10-17T03:52:03.304989Z"
    },
    "papermill": {
     "duration": 1.461637,
     "end_time": "2024-10-17T03:52:03.308064",
     "exception": false,
     "start_time": "2024-10-17T03:52:01.846427",
     "status": "completed"
    },
    "tags": []
   },
   "outputs": [
    {
     "data": {
      "image/png": "[encoded data removed]",
      "text/plain": [
       "<Figure size 1200x400 with 2 Axes>"
      ]
     },
     "metadata": {},
     "output_type": "display_data"
    }
   ],
   "source": [
    "# Plot training history\n",
    "plt.figure(figsize=(12, 4))\n",
    "plt.subplot(1, 2, 1)\n",
    "plt.plot(history.history['accuracy'], label='Train Accuracy')\n",
    "plt.plot(history.history['val_accuracy'], label='Validation Accuracy')\n",
    "plt.title('Accuracy')\n",
    "plt.xlabel('Epoch')\n",
    "plt.ylabel('Accuracy')\n",
    "plt.legend()\n",
    "\n",
    "plt.subplot(1, 2, 2)\n",
    "plt.plot(history.history['loss'], label='Train Loss')\n",
    "plt.plot(history.history['val_loss'], label='Validation Loss')\n",
    "plt.title('Loss')\n",
    "plt.xlabel('Epoch')\n",
    "plt.ylabel('Loss')\n",
    "plt.legend()\n",
    "\n",
    "plt.tight_layout()\n",
    "plt.show()"
   ]
  },
  {
   "cell_type": "code",
   "execution_count": 42,
   "id": "c6a5175e",
   "metadata": {},
   "outputs": [
    {
     "data": {
      "image/png": "[encoded data removed]",
      "text/plain": [
       "<Figure size 640x480 with 1 Axes>"
      ]
     },
     "metadata": {},
     "output_type": "display_data"
    }
   ],
   "source": [
    "# Class-wise Performance Metrics (Bar Chart)\n",
    "\n",
    "import matplotlib.pyplot as plt\n",
    "\n",
    "# Plot bar chart for precision, recall, and F1-score\n",
    "labels = ['Normal', 'Cyst', 'Tumor', 'Stone']\n",
    "metrics = [precision_per_class, recall_per_class, f1_score_per_class]\n",
    "\n",
    "x = range(n_classes)\n",
    "plt.bar(x, metrics[0], width=0.2, label='Precision', align='center')\n",
    "plt.bar(x, metrics[1], width=0.2, label='Recall', align='edge')\n",
    "plt.bar(x, metrics[2], width=0.2, label='F1-Score', align='edge')\n",
    "\n",
    "plt.xlabel('Classes')\n",
    "plt.ylabel('Scores')\n",
    "plt.xticks(x, labels)\n",
    "plt.legend()\n",
    "plt.show()\n",
    "\n",
    "\n"
   ]
  },
  {
   "cell_type": "code",
   "execution_count": 50,
   "id": "6ac73eda",
   "metadata": {},
   "outputs": [
    {
     "name": "stdout",
     "output_type": "stream",
     "text": [
      "\u001b[1m40/40\u001b[0m \u001b[32m━━━━━━━━━━━━━━━━━━━━\u001b[0m\u001b[37m\u001b[0m \u001b[1m9s\u001b[0m 216ms/step\n"
     ]
    },
    {
     "data": {
      "image/png": "[encoded data removed]",
      "text/plain": [
       "<Figure size 640x480 with 1 Axes>"
      ]
     },
     "metadata": {},
     "output_type": "display_data"
    }
   ],
   "source": [
    "# ROC Curve (Receiver Operating Characteristic Curve)\n",
    "y_true = label_binarize(test_generator.classes, classes=[0, 1, 2, 3])\n",
    "y_pred = model.predict(test_generator)  # Model predictions (probabilities)\n",
    "\n",
    "# Compute ROC curve and AUC for each class\n",
    "for i in range(n_classes):\n",
    "    fpr, tpr, _ = roc_curve(y_true[:, i], y_pred[:, i])  # Compute ROC for class 'i'\n",
    "    roc_auc = auc(fpr, tpr)  # Compute AUC for class 'i'\n",
    "\n",
    "    plt.plot(fpr, tpr, label=f'{class_names[i]} (AUC = {roc_auc:.2f})')\n",
    "\n",
    "plt.plot([0, 1], [0, 1], color='navy', lw=2, linestyle='--')  # Diagonal line (random classifier)\n",
    "plt.title('Receiver Operating Characteristic (ROC) Curve for Each Class')\n",
    "plt.xlabel('False Positive Rate (FPR)')\n",
    "plt.ylabel('True Positive Rate (TPR)')\n",
    "plt.legend(loc='lower right')\n",
    "plt.show()"
   ]
  },
  {
   "cell_type": "code",
   "execution_count": 52,
   "id": "1afe7726",
   "metadata": {
    "execution": {
     "iopub.execute_input": "2024-10-17T03:52:04.979966Z",
     "iopub.status.busy": "2024-10-17T03:52:04.979575Z",
     "iopub.status.idle": "2024-10-17T03:52:05.082136Z",
     "shell.execute_reply": "2024-10-17T03:52:05.081343Z"
    },
    "papermill": {
     "duration": 0.961173,
     "end_time": "2024-10-17T03:52:05.084401",
     "exception": false,
     "start_time": "2024-10-17T03:52:04.123228",
     "status": "completed"
    },
    "tags": []
   },
   "outputs": [],
   "source": [
    "# Save the model\n",
    "model.save('kidney_disease_detection_model_saujanya.keras')"
   ]
  }
 ],
 "metadata": {
  "kaggle": {
   "accelerator": "gpu",
   "dataSources": [
    {
     "datasetId": 1686903,
     "sourceId": 2764486,
     "sourceType": "datasetVersion"
    }
   ],
   "isGpuEnabled": true,
   "isInternetEnabled": true,
   "language": "python",
   "sourceType": "notebook"
  },
  "kernelspec": {
   "display_name": "Python 3",
   "language": "python",
   "name": "python3"
  },
  "language_info": {
   "codemirror_mode": {
    "name": "ipython",
    "version": 3
   },
   "file_extension": ".py",
   "mimetype": "text/x-python",
   "name": "python",
   "nbconvert_exporter": "python",
   "pygments_lexer": "ipython3",
   "version": "3.11.4"
  },
  "papermill": {
   "default_parameters": {},
   "duration": 1894.852285,
   "end_time": "2024-10-17T03:52:08.057098",
   "environment_variables": {},
   "exception": null,
   "input_path": "__notebook__.ipynb",
   "output_path": "__notebook__.ipynb",
   "parameters": {},
   "start_time": "2024-10-17T03:20:33.204813",
   "version": "2.6.0"
  }
 },
 "nbformat": 4,
 "nbformat_minor": 5
}
